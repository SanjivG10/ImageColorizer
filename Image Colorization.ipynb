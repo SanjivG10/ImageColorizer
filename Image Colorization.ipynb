{
 "cells": [
  {
   "cell_type": "code",
   "execution_count": 1,
   "metadata": {},
   "outputs": [],
   "source": [
    "import tensorflow as tf\n",
    "from tensorflow.keras.layers import Dense, Conv2D, Conv2DTranspose, BatchNormalization,LeakyReLU,Input, Lambda,Concatenate,Flatten\n",
    "from  tensorflow.keras.models import Sequential,Model \n",
    "import numpy as np\n",
    "import random\n",
    "import matplotlib.pyplot as plt\n",
    "import cv2\n",
    "import random"
   ]
  },
  {
   "cell_type": "code",
   "execution_count": 2,
   "metadata": {},
   "outputs": [],
   "source": [
    "tf.enable_eager_execution()"
   ]
  },
  {
   "cell_type": "code",
   "execution_count": 330,
   "metadata": {},
   "outputs": [],
   "source": [
    "#we want to create a image colorization using GAN, I could have tried CNN but heard this works better\n",
    "class ImageColorizer():\n",
    "    def __init__(self):\n",
    "        self.epochs = 50\n",
    "        self.image_size = 64\n",
    "        self.batch_size = 50\n",
    "        self.filter_size = 64\n",
    "        self.kernel_size = 3\n",
    "        self.learning_rate = 0.0002\n",
    "        self.gen_optimizer = tf.train.AdamOptimizer(self.learning_rate,beta1=0.5)\n",
    "        self.dis_optimizer = tf.train.AdamOptimizer(self.learning_rate,beta1=0.5)\n",
    "    def generator_model(self):\n",
    "        # generator is like this, we have grayscale image of size 50*50, and we first downsample and then upsample it\n",
    "        #we use fully convolutional network, so we don't use Dense Layer here! \n",
    "        input_images = Input(shape=[32,32,1])\n",
    "        #first layer\n",
    "        layer1= Conv2D(self.filter_size,self.kernel_size,(2,2),padding='same',use_bias=False,kernel_initializer='random_uniform',activation=None)(input_images)\n",
    "        layer1=LeakyReLU(0.2)(layer1)\n",
    "        #shape = 16*16*64\n",
    "        \n",
    "        layer2= Conv2D(self.filter_size*2,self.kernel_size,(2,2),padding='same',use_bias=False,kernel_initializer='random_uniform',activation=None)(layer1)\n",
    "        layer2=BatchNormalization()(layer2)\n",
    "        layer2=LeakyReLU(0.2)(layer2)\n",
    "        #shape =8*8*128\n",
    "        \n",
    "        layer3=Conv2D(self.filter_size*4,self.kernel_size,(2,2),padding='same',use_bias=False,kernel_initializer='random_uniform',activation=None)(layer2)\n",
    "        layer3=BatchNormalization()(layer3)\n",
    "        layer3=LeakyReLU(0.2)(layer3) \n",
    "        #shape = 4*4*256        \n",
    "        \n",
    "        up_layer5 = Conv2DTranspose(self.filter_size*2,self.kernel_size,strides = (2,2),padding='same',use_bias=False,activation=None)(layer3)\n",
    "        up_layer5=BatchNormalization()(up_layer5)\n",
    "        up_layer5=LeakyReLU(0.2)(up_layer5)\n",
    "        #shape = 8*8*128\n",
    "        up_layer_5_concat = Concatenate()([up_layer5, layer2])  \n",
    "\n",
    "\n",
    "        up_layer6 = Conv2DTranspose(self.filter_size,self.kernel_size,strides = (2,2),padding='same',use_bias=False,activation=None)(up_layer_5_concat)\n",
    "        up_layer6 =BatchNormalization()(up_layer6)\n",
    "        up_layer6 =LeakyReLU(0.2)(up_layer6)\n",
    "\n",
    "        #shape = 16*16*64\n",
    "        up_layer_6_concat = Concatenate()([up_layer6, layer1])        \n",
    "        \n",
    "        up_layer7 = Conv2DTranspose(3,self.kernel_size,strides = (2,2),padding='same',use_bias=False,activation=None)(up_layer_6_concat)\n",
    "        up_layer7 =BatchNormalization()(up_layer7)\n",
    "        up_layer7 =LeakyReLU(0.2)(up_layer7)\n",
    "        #shape = 32*32*3\n",
    "\n",
    "        #shape = 32*32*3\n",
    "        model = Model(input_images,up_layer7)\n",
    "        return model\n",
    "        \n",
    "    def discriminator_model(self):\n",
    "        # discriminator follows similar pattern, but has one sigmoid ouput whether the given network is from generator or from real data input\n",
    "        input_images = Input(shape=[32,32,3])\n",
    "        layer1= Conv2D(self.filter_size,self.kernel_size,(2,2),padding='same',use_bias=False,kernel_initializer='random_uniform',activation=None)(input_images)\n",
    "        layer1=LeakyReLU(0.2)(layer1)\n",
    "        #shape = 16*16*64\n",
    "        layer2= Conv2D(self.filter_size*2,self.kernel_size,(2,2),padding='same',use_bias=False,kernel_initializer='random_uniform',activation=None)(layer1)\n",
    "        layer2=BatchNormalization()(layer2)\n",
    "        layer2=LeakyReLU(0.2)(layer2)\n",
    "        #shape =8*8*128\n",
    "        layer3=Conv2D(self.filter_size*4,self.kernel_size,(2,2),padding='same',use_bias=False,kernel_initializer='random_uniform',activation=None)(layer2)\n",
    "        layer3=BatchNormalization()(layer3)\n",
    "        layer3=LeakyReLU(0.2)(layer3) \n",
    "        #shape = 4*4*256        \n",
    "        \n",
    "        up_layer5 = Conv2DTranspose(self.filter_size*2,self.kernel_size,strides = (2,2),padding='same',use_bias=False,activation=None)(layer3)\n",
    "        up_layer5=BatchNormalization()(up_layer5)\n",
    "        up_layer5=LeakyReLU(0.2)(up_layer5)\n",
    "        #shape = 8*8*128\n",
    "        up_layer_5_concat = Concatenate()([up_layer5, layer2])  \n",
    "\n",
    "\n",
    "        up_layer6 = Conv2DTranspose(self.filter_size,self.kernel_size,strides = (2,2),padding='same',use_bias=False,activation=None)(up_layer_5_concat)\n",
    "        up_layer6 =BatchNormalization()(up_layer6)\n",
    "        up_layer6 =LeakyReLU(0.2)(up_layer6)\n",
    "\n",
    "        #shape = 16*16*64\n",
    "        up_layer_6_concat = Concatenate()([up_layer6, layer1])        \n",
    "        \n",
    "        up_layer7 = Conv2DTranspose(self.filter_size,self.kernel_size,strides = (2,2),padding='same',use_bias=False,activation=None)(up_layer_6_concat)\n",
    "        up_layer7 =BatchNormalization()(up_layer7)\n",
    "        up_layer7 =LeakyReLU(0.2)(up_layer7)\n",
    "        #shape = 32*32*64\n",
    "        \n",
    "        output = Conv2DTranspose(3,self.kernel_size,strides = (2,2),padding='same',use_bias=False,activation=None)(up_layer7)\n",
    "        final_output = LeakyReLU(0.2)(output)\n",
    "        #shape = 64*64*3\n",
    "        output = Flatten()(final_output)\n",
    "        \n",
    "        sigmoid_output = Dense(1,activation='sigmoid')(output)  \n",
    "        model = Model(input_images,sigmoid_output)\n",
    "        return model\n",
    "    \n",
    "    def generator_loss(self,fake_output,generated_image, actual_image,regularizer_lambda=100):\n",
    "        mse = tf.reduce_mean(regularizer_lambda*tf.keras.losses.mean_absolute_error(generated_image, actual_image))\n",
    "        return tf.nn.sigmoid_cross_entropy_with_logits(labels = tf.ones_like(fake_output)*0.9,logits = fake_output) + mse\n",
    "    \n",
    "    def discriminator_loss(self,generated_image_from_generator,actual_image):\n",
    "        actual_loss  = tf.nn.sigmoid_cross_entropy_with_logits(labels = tf.ones_like(actual_image)*0.9, logits = actual_image )\n",
    "        fake_loss  = tf.nn.sigmoid_cross_entropy_with_logits(labels = tf.zeros_like(generated_image_from_generator), logits = generated_image_from_generator)\n",
    "        return actual_loss + fake_loss\n",
    "    def draw_images(self,generator,input_image_test):\n",
    "        predict_image= generator(input_image_test)\n",
    "        plt.imshow(predict_image[0,:,:,:],cmap='gray')\n",
    "        plt.show()\n",
    "\n",
    "    def train(self,gray_scale_image_dataset,color_image_dataset,test_image):\n",
    "        seed= 20 \n",
    "        generator = self.generator_model()\n",
    "        discriminator = self.discriminator_model()\n",
    "        \n",
    "        grayscale_train_dataset = tf.data.Dataset.from_tensor_slices(gray_scale_image_dataset).batch(200)\n",
    "        colored_image_train_dataset = tf.data.Dataset.from_tensor_slices(color_image_dataset).batch(200)\n",
    "        print(\"Training Started\")\n",
    "        for eachEpoch in range(self.epochs):\n",
    "            #this image is being drawn\n",
    "            for gray_scale_image,colored_image in zip(grayscale_train_dataset,colored_image_train_dataset):\n",
    "                for i in range(20):\n",
    "                    tf.random.shuffle(gray_scale_image,seed=seed)\n",
    "                    tf.random.shuffle(colored_image,seed=seed)\n",
    "                self.train_each_epoch(gray_scale_image,colored_image,generator,discriminator,eachEpoch)\n",
    "            print(\"EPOCHS FINISHED = {}\".format(eachEpoch))\n",
    "            self.draw_images(generator,test_image)\n",
    "        \n",
    "    \n",
    "    def train_each_epoch(self,gray_scale_image_dataset,color_image_dataset,generator,discriminator,epochNumber):\n",
    " \n",
    "            with tf.GradientTape() as gen_tape, tf.GradientTape() as disc_tape:\n",
    "                generated_image = generator(gray_scale_image_dataset)\n",
    "                \n",
    "                real_output = discriminator(color_image_dataset)\n",
    "                fake_output = discriminator(generated_image)\n",
    "\n",
    "                gen_loss = self.generator_loss(fake_output,generated_image,color_image_dataset)\n",
    "                dis_loss = self.discriminator_loss(fake_output,real_output)\n",
    "            print (\"Gen Loss = {} Dis Loss = {} \".format(gen_loss[0],dis_loss[0]))\n",
    "            gen_gradients = gen_tape.gradient(gen_loss,generator.trainable_variables)\n",
    "            disc_gradients = disc_tape.gradient(dis_loss,discriminator.trainable_variables)\n",
    "            self.gen_optimizer.apply_gradients(zip(gen_gradients, generator.trainable_variables))\n",
    "            self.dis_optimizer.apply_gradients(zip(disc_gradients, discriminator.trainable_variables))\n",
    "        "
   ]
  },
  {
   "cell_type": "code",
   "execution_count": 331,
   "metadata": {},
   "outputs": [],
   "source": [
    "#lets read the images\n",
    "gray_scale_image_location = 'image-colorization/gray_scale.npy' \n",
    "colored_image_1_location = 'image-colorization/rgb_colored_images.npy'\n"
   ]
  },
  {
   "cell_type": "code",
   "execution_count": 332,
   "metadata": {},
   "outputs": [],
   "source": [
    "gray_images  = np.load(gray_scale_image_location)\n",
    "colored_image_1 = np.load(colored_image_1_location)"
   ]
  },
  {
   "cell_type": "code",
   "execution_count": null,
   "metadata": {},
   "outputs": [],
   "source": []
  },
  {
   "cell_type": "code",
   "execution_count": 333,
   "metadata": {},
   "outputs": [],
   "source": [
    "#resizing images! \n",
    "def imageResize(images):\n",
    "    resize_array = []\n",
    "    for index,img in enumerate(images):\n",
    "        resized = cv2.resize(img,(32,32))                \n",
    "        resize_array.append(resized)\n",
    "    return np.array(resize_array)"
   ]
  },
  {
   "cell_type": "code",
   "execution_count": null,
   "metadata": {},
   "outputs": [],
   "source": []
  },
  {
   "cell_type": "code",
   "execution_count": 334,
   "metadata": {},
   "outputs": [],
   "source": [
    "gray_images_resized_type_unchanged = imageResize(gray_images)/255.0\n",
    "color_images_resized_type_unchanged = imageResize(colored_image_1)/255.0\n",
    "\n",
    "gray_images_resized_type=gray_images_resized_type_unchanged.astype(np.float32)\n",
    "color_images_resized_type= imageResize(color_images_resized_type_unchanged).astype(np.float32)\n",
    "\n"
   ]
  },
  {
   "cell_type": "code",
   "execution_count": null,
   "metadata": {},
   "outputs": [],
   "source": []
  },
  {
   "cell_type": "code",
   "execution_count": 335,
   "metadata": {},
   "outputs": [],
   "source": [
    "\n",
    "gray_images_resized_type = np.reshape(gray_images_resized_type,(-1,32,32,1))\n",
    "color_images_resized_type = np.reshape(color_images_resized_type,(-1,32,32,3))\n"
   ]
  },
  {
   "cell_type": "code",
   "execution_count": null,
   "metadata": {},
   "outputs": [],
   "source": []
  },
  {
   "cell_type": "code",
   "execution_count": 340,
   "metadata": {},
   "outputs": [
    {
     "data": {
      "text/plain": [
       "<matplotlib.image.AxesImage at 0x2b093dde208>"
      ]
     },
     "execution_count": 340,
     "metadata": {},
     "output_type": "execute_result"
    },
    {
     "data": {
      "image/png": "[encoded data removed]",
      "text/plain": [
       "<Figure size 432x288 with 1 Axes>"
      ]
     },
     "metadata": {
      "needs_background": "light"
     },
     "output_type": "display_data"
    }
   ],
   "source": [
    "plt.imshow(color_images_resized_type[0,:,:,:])"
   ]
  },
  {
   "cell_type": "code",
   "execution_count": 343,
   "metadata": {},
   "outputs": [],
   "source": [
    "test= cv2.imread('sanjiv.jpg',1)\n",
    "test= cv2.cvtColor(test,cv2.COLOR_BGR2GRAY)/255.0\n",
    "test = cv2.resize(test,(32,32))\n",
    "test = np.reshape(test,(32,32,1)).astype(np.float32)\n",
    "test = np.expand_dims(test,0)\n"
   ]
  },
  {
   "cell_type": "code",
   "execution_count": 344,
   "metadata": {
    "scrolled": true
   },
   "outputs": [],
   "source": [
    "image_colorizer = ImageColorizer()\n",
    "\n",
    "gen = image_colorizer.generator_model()\n",
    "dis = image_colorizer.discriminator_model()\n"
   ]
  },
  {
   "cell_type": "code",
   "execution_count": null,
   "metadata": {
    "scrolled": true
   },
   "outputs": [
    {
     "name": "stdout",
     "output_type": "stream",
     "text": [
      "Training Started\n",
      "Gen Loss = [37.029137] Dis Loss = [1.4987485] \n",
      "Gen Loss = [36.693398] Dis Loss = [1.497836] \n",
      "Gen Loss = [37.78859] Dis Loss = [1.4966474] \n",
      "Gen Loss = [33.839046] Dis Loss = [1.495069] \n",
      "Gen Loss = [36.278328] Dis Loss = [1.4942552] \n",
      "Gen Loss = [37.824333] Dis Loss = [1.4907306] \n",
      "Gen Loss = [37.526276] Dis Loss = [1.4878706] \n",
      "Gen Loss = [36.74858] Dis Loss = [1.484475] \n",
      "Gen Loss = [33.125687] Dis Loss = [1.4906297] \n",
      "Gen Loss = [33.555763] Dis Loss = [1.475295] \n",
      "Gen Loss = [33.225468] Dis Loss = [1.4775382] \n",
      "Gen Loss = [31.43714] Dis Loss = [1.4817753] \n",
      "Gen Loss = [28.589296] Dis Loss = [1.4986775] \n",
      "Gen Loss = [26.372831] Dis Loss = [1.48855] \n",
      "Gen Loss = [26.75539] Dis Loss = [1.4863236] \n",
      "Gen Loss = [26.064617] Dis Loss = [1.4632263] \n",
      "Gen Loss = [24.276705] Dis Loss = [1.4567661] \n",
      "Gen Loss = [24.661005] Dis Loss = [1.4674067] \n",
      "Gen Loss = [23.109581] Dis Loss = [1.4344592] \n",
      "Gen Loss = [23.532074] Dis Loss = [1.3952085] \n",
      "Gen Loss = [21.80901] Dis Loss = [1.3053122] \n",
      "Gen Loss = [21.489916] Dis Loss = [1.3817701] \n",
      "Gen Loss = [21.037588] Dis Loss = [1.4522088] \n",
      "Gen Loss = [20.34089] Dis Loss = [1.339448] \n",
      "Gen Loss = [19.580868] Dis Loss = [1.4763396] \n",
      "Gen Loss = [18.973967] Dis Loss = [1.3873723] \n",
      "Gen Loss = [19.181067] Dis Loss = [1.3860879] \n",
      "Gen Loss = [18.40171] Dis Loss = [1.3864932] \n",
      "Gen Loss = [18.511] Dis Loss = [1.3865614] \n",
      "Gen Loss = [17.862366] Dis Loss = [1.3861139] \n",
      "Gen Loss = [18.015188] Dis Loss = [1.3871709] \n",
      "Gen Loss = [17.54015] Dis Loss = [1.3867865] \n",
      "Gen Loss = [17.725409] Dis Loss = [1.3862278] \n",
      "Gen Loss = [17.123766] Dis Loss = [1.3863496] \n",
      "Gen Loss = [17.20104] Dis Loss = [1.3878243] \n",
      "Gen Loss = [16.71156] Dis Loss = [1.3828831] \n",
      "Gen Loss = [16.53273] Dis Loss = [1.3892815] \n",
      "Gen Loss = [15.841787] Dis Loss = [1.385814] \n",
      "Gen Loss = [15.820252] Dis Loss = [1.3872037] \n",
      "Gen Loss = [15.796412] Dis Loss = [1.4056125] \n",
      "Gen Loss = [16.044954] Dis Loss = [1.3872805] \n",
      "Gen Loss = [15.084267] Dis Loss = [1.3857776] \n",
      "Gen Loss = [15.083925] Dis Loss = [1.3833486] \n",
      "Gen Loss = [15.570384] Dis Loss = [1.3870599] \n",
      "Gen Loss = [15.138915] Dis Loss = [1.38564] \n",
      "Gen Loss = [15.536279] Dis Loss = [1.3867573] \n",
      "Gen Loss = [14.790336] Dis Loss = [1.3862977] \n",
      "Gen Loss = [15.543822] Dis Loss = [1.3862827] \n",
      "Gen Loss = [15.4270935] Dis Loss = [1.3858016] \n",
      "Gen Loss = [15.00014] Dis Loss = [1.3834493] \n"
     ]
    },
    {
     "name": "stderr",
     "output_type": "stream",
     "text": [
      "Clipping input data to the valid range for imshow with RGB data ([0..1] for floats or [0..255] for integers).\n"
     ]
    },
    {
     "name": "stdout",
     "output_type": "stream",
     "text": [
      "EPOCHS FINISHED = 0\n"
     ]
    },
    {
     "data": {
      "image/png": "[encoded data removed]",
      "text/plain": [
       "<Figure size 432x288 with 1 Axes>"
      ]
     },
     "metadata": {
      "needs_background": "light"
     },
     "output_type": "display_data"
    },
    {
     "name": "stdout",
     "output_type": "stream",
     "text": [
      "Gen Loss = [14.952695] Dis Loss = [1.3863621] \n",
      "Gen Loss = [14.501406] Dis Loss = [1.389123] \n",
      "Gen Loss = [14.9255295] Dis Loss = [1.3864042] \n",
      "Gen Loss = [14.098645] Dis Loss = [1.3864172] \n",
      "Gen Loss = [14.608189] Dis Loss = [1.3851693] \n",
      "Gen Loss = [14.878174] Dis Loss = [1.3865194] \n",
      "Gen Loss = [14.454462] Dis Loss = [1.3861748] \n",
      "Gen Loss = [14.9173565] Dis Loss = [1.3872321] \n",
      "Gen Loss = [14.535972] Dis Loss = [1.3836579] \n",
      "Gen Loss = [14.370832] Dis Loss = [1.3869145] \n",
      "Gen Loss = [14.85324] Dis Loss = [1.3858826] \n",
      "Gen Loss = [14.461358] Dis Loss = [1.3862596] \n",
      "Gen Loss = [14.083667] Dis Loss = [1.3862994] \n",
      "Gen Loss = [13.915397] Dis Loss = [1.3890929] \n",
      "Gen Loss = [14.921602] Dis Loss = [1.3920014] \n",
      "Gen Loss = [14.262823] Dis Loss = [1.3864566] \n",
      "Gen Loss = [14.129458] Dis Loss = [1.3852522] \n",
      "Gen Loss = [14.244817] Dis Loss = [1.3982084] \n",
      "Gen Loss = [14.494367] Dis Loss = [1.3856099] \n",
      "Gen Loss = [14.395203] Dis Loss = [1.3882649] \n",
      "Gen Loss = [14.240579] Dis Loss = [1.3862903] \n",
      "Gen Loss = [13.816247] Dis Loss = [1.3813076] \n",
      "Gen Loss = [14.3152685] Dis Loss = [1.4325234] \n",
      "Gen Loss = [14.042621] Dis Loss = [1.384773] \n",
      "Gen Loss = [14.021349] Dis Loss = [1.3862836] \n",
      "Gen Loss = [13.269418] Dis Loss = [1.386295] \n",
      "Gen Loss = [13.732041] Dis Loss = [1.3863289] \n",
      "Gen Loss = [13.6733885] Dis Loss = [1.3862946] \n",
      "Gen Loss = [13.47687] Dis Loss = [1.3862963] \n",
      "Gen Loss = [13.3536005] Dis Loss = [1.3863716] \n",
      "Gen Loss = [13.729222] Dis Loss = [1.3863866] \n",
      "Gen Loss = [13.484381] Dis Loss = [1.3862768] \n",
      "Gen Loss = [13.570108] Dis Loss = [1.3862956] \n",
      "Gen Loss = [13.55334] Dis Loss = [1.3862942] \n",
      "Gen Loss = [13.604634] Dis Loss = [1.3864716] \n",
      "Gen Loss = [13.36067] Dis Loss = [1.3774703] \n",
      "Gen Loss = [13.33472] Dis Loss = [1.3869898] \n",
      "Gen Loss = [12.838763] Dis Loss = [1.3862009] \n",
      "Gen Loss = [12.920741] Dis Loss = [1.3864075] \n",
      "Gen Loss = [13.436289] Dis Loss = [1.4049944] \n",
      "Gen Loss = [13.370654] Dis Loss = [1.3864723] \n",
      "Gen Loss = [12.654997] Dis Loss = [1.3860595] \n",
      "Gen Loss = [13.00131] Dis Loss = [1.3840146] \n",
      "Gen Loss = [13.232774] Dis Loss = [1.3862857] \n",
      "Gen Loss = [13.087541] Dis Loss = [1.3861384] \n",
      "Gen Loss = [13.419675] Dis Loss = [1.3863199] \n",
      "Gen Loss = [12.814228] Dis Loss = [1.3862946] \n",
      "Gen Loss = [13.630529] Dis Loss = [1.3859799] \n",
      "Gen Loss = [13.714166] Dis Loss = [1.3861883] \n",
      "Gen Loss = [13.283444] Dis Loss = [1.3845462] \n"
     ]
    },
    {
     "name": "stderr",
     "output_type": "stream",
     "text": [
      "Clipping input data to the valid range for imshow with RGB data ([0..1] for floats or [0..255] for integers).\n"
     ]
    },
    {
     "name": "stdout",
     "output_type": "stream",
     "text": [
      "EPOCHS FINISHED = 1\n"
     ]
    },
    {
     "data": {
      "image/png": "[encoded data removed]",
      "text/plain": [
       "<Figure size 432x288 with 1 Axes>"
      ]
     },
     "metadata": {
      "needs_background": "light"
     },
     "output_type": "display_data"
    },
    {
     "name": "stdout",
     "output_type": "stream",
     "text": [
      "Gen Loss = [13.473641] Dis Loss = [1.3862888] \n",
      "Gen Loss = [12.994402] Dis Loss = [1.3872268] \n",
      "Gen Loss = [13.445111] Dis Loss = [1.3863335] \n",
      "Gen Loss = [12.803075] Dis Loss = [1.3862865] \n",
      "Gen Loss = [13.1878395] Dis Loss = [1.3857918] \n",
      "Gen Loss = [13.434071] Dis Loss = [1.3863235] \n",
      "Gen Loss = [13.026144] Dis Loss = [1.386267] \n",
      "Gen Loss = [13.1578865] Dis Loss = [1.3864046] \n",
      "Gen Loss = [13.164364] Dis Loss = [1.3866313] \n",
      "Gen Loss = [13.085392] Dis Loss = [1.3864089] \n",
      "Gen Loss = [13.559782] Dis Loss = [1.3859679] \n",
      "Gen Loss = [13.190585] Dis Loss = [1.3862698] \n",
      "Gen Loss = [12.97996] Dis Loss = [1.3862941] \n",
      "Gen Loss = [12.809586] Dis Loss = [1.3882976] \n",
      "Gen Loss = [13.782845] Dis Loss = [1.3896803] \n",
      "Gen Loss = [13.012379] Dis Loss = [1.3862371] \n",
      "Gen Loss = [12.902552] Dis Loss = [1.3855711] \n",
      "Gen Loss = [12.998686] Dis Loss = [1.3946431] \n",
      "Gen Loss = [13.11495] Dis Loss = [1.3840294] \n",
      "Gen Loss = [12.910861] Dis Loss = [1.3874699] \n",
      "Gen Loss = [12.92882] Dis Loss = [1.386292] \n",
      "Gen Loss = [12.624772] Dis Loss = [1.3441474] \n",
      "Gen Loss = [13.186595] Dis Loss = [1.4408749] \n",
      "Gen Loss = [12.909323] Dis Loss = [1.378025] \n",
      "Gen Loss = [12.85081] Dis Loss = [1.3857617] \n",
      "Gen Loss = [12.107498] Dis Loss = [1.3863026] \n",
      "Gen Loss = [12.6024475] Dis Loss = [1.3862863] \n",
      "Gen Loss = [12.644819] Dis Loss = [1.3863218] \n",
      "Gen Loss = [12.375213] Dis Loss = [1.3849202] \n",
      "Gen Loss = [12.265135] Dis Loss = [1.3884261] \n",
      "Gen Loss = [12.580183] Dis Loss = [1.4058471] \n",
      "Gen Loss = [12.382674] Dis Loss = [1.3669348] \n",
      "Gen Loss = [12.38654] Dis Loss = [1.3754301] \n",
      "Gen Loss = [12.408314] Dis Loss = [1.4241021] \n",
      "Gen Loss = [12.502157] Dis Loss = [1.3863021] \n",
      "Gen Loss = [12.211311] Dis Loss = [1.3528562] \n",
      "Gen Loss = [12.175456] Dis Loss = [1.3862945] \n",
      "Gen Loss = [11.695053] Dis Loss = [1.3862944] \n",
      "Gen Loss = [11.802694] Dis Loss = [1.3862944] \n",
      "Gen Loss = [12.441395] Dis Loss = [1.3808506] \n",
      "Gen Loss = [12.263776] Dis Loss = [1.3862944] \n",
      "Gen Loss = [11.636934] Dis Loss = [1.3862927] \n",
      "Gen Loss = [12.051876] Dis Loss = [1.3856095] \n",
      "Gen Loss = [12.144737] Dis Loss = [1.3862941] \n",
      "Gen Loss = [12.123911] Dis Loss = [1.3862926] \n",
      "Gen Loss = [12.431009] Dis Loss = [1.3862944] \n",
      "Gen Loss = [11.82498] Dis Loss = [1.3862944] \n",
      "Gen Loss = [12.570685] Dis Loss = [1.3862544] \n",
      "Gen Loss = [12.689743] Dis Loss = [1.385567] \n",
      "Gen Loss = [12.261366] Dis Loss = [1.3734164] \n"
     ]
    },
    {
     "name": "stderr",
     "output_type": "stream",
     "text": [
      "Clipping input data to the valid range for imshow with RGB data ([0..1] for floats or [0..255] for integers).\n"
     ]
    },
    {
     "name": "stdout",
     "output_type": "stream",
     "text": [
      "EPOCHS FINISHED = 2\n"
     ]
    },
    {
     "data": {
      "image/png": "[encoded data removed]",
      "text/plain": [
       "<Figure size 432x288 with 1 Axes>"
      ]
     },
     "metadata": {
      "needs_background": "light"
     },
     "output_type": "display_data"
    },
    {
     "name": "stdout",
     "output_type": "stream",
     "text": [
      "Gen Loss = [12.5494795] Dis Loss = [1.3862655] \n",
      "Gen Loss = [12.06414] Dis Loss = [1.3866978] \n",
      "Gen Loss = [12.521802] Dis Loss = [1.3863721] \n",
      "Gen Loss = [11.952936] Dis Loss = [1.1498145] \n",
      "Gen Loss = [11.9934225] Dis Loss = [1.4813603] \n",
      "Gen Loss = [12.6230955] Dis Loss = [1.3862946] \n",
      "Gen Loss = [12.095552] Dis Loss = [1.3862944] \n",
      "Gen Loss = [12.112158] Dis Loss = [1.3862944] \n",
      "Gen Loss = [12.116635] Dis Loss = [1.3862948] \n",
      "Gen Loss = [12.089079] Dis Loss = [1.3862944] \n",
      "Gen Loss = [12.608156] Dis Loss = [1.3862944] \n",
      "Gen Loss = [12.293619] Dis Loss = [1.3862944] \n",
      "Gen Loss = [12.220451] Dis Loss = [1.3862944] \n",
      "Gen Loss = [11.979442] Dis Loss = [1.3862944] \n",
      "Gen Loss = [12.875455] Dis Loss = [1.386296] \n",
      "Gen Loss = [12.006712] Dis Loss = [1.3862944] \n",
      "Gen Loss = [11.932203] Dis Loss = [1.3862944] \n",
      "Gen Loss = [12.043914] Dis Loss = [1.3863] \n",
      "Gen Loss = [12.111435] Dis Loss = [1.3862942] \n",
      "Gen Loss = [11.971323] Dis Loss = [1.3862944] \n",
      "Gen Loss = [12.059628] Dis Loss = [1.3862944] \n",
      "Gen Loss = [11.878812] Dis Loss = [1.3614058] \n",
      "Gen Loss = [12.457639] Dis Loss = [1.3876588] \n",
      "Gen Loss = [12.118755] Dis Loss = [1.3862936] \n",
      "Gen Loss = [12.037067] Dis Loss = [1.3862944] \n",
      "Gen Loss = [11.293026] Dis Loss = [1.3862944] \n",
      "Gen Loss = [11.792845] Dis Loss = [1.3862944] \n",
      "Gen Loss = [11.916271] Dis Loss = [1.3862944] \n",
      "Gen Loss = [11.642597] Dis Loss = [1.3862944] \n",
      "Gen Loss = [11.573793] Dis Loss = [1.3862944] \n",
      "Gen Loss = [11.889088] Dis Loss = [1.3862944] \n",
      "Gen Loss = [11.706804] Dis Loss = [1.3862944] \n",
      "Gen Loss = [11.6375885] Dis Loss = [1.3862944] \n",
      "Gen Loss = [11.7430725] Dis Loss = [1.3862944] \n",
      "Gen Loss = [11.61622] Dis Loss = [1.3862944] \n",
      "Gen Loss = [11.469058] Dis Loss = [1.3766916] \n",
      "Gen Loss = [11.483452] Dis Loss = [1.3862944] \n",
      "Gen Loss = [11.004492] Dis Loss = [1.3862944] \n",
      "Gen Loss = [11.113993] Dis Loss = [1.3862944] \n",
      "Gen Loss = [11.787587] Dis Loss = [1.3815525] \n",
      "Gen Loss = [11.575911] Dis Loss = [1.3862944] \n",
      "Gen Loss = [11.004597] Dis Loss = [1.3862944] \n",
      "Gen Loss = [11.490615] Dis Loss = [1.3861865] \n",
      "Gen Loss = [11.516224] Dis Loss = [1.3862944] \n",
      "Gen Loss = [11.529209] Dis Loss = [1.3862944] \n",
      "Gen Loss = [11.824625] Dis Loss = [1.3862944] \n",
      "Gen Loss = [11.239283] Dis Loss = [1.3862944] \n",
      "Gen Loss = [11.9713545] Dis Loss = [1.3862941] \n",
      "Gen Loss = [12.105055] Dis Loss = [1.3862941] \n",
      "Gen Loss = [11.677974] Dis Loss = [1.3862486] \n"
     ]
    },
    {
     "name": "stderr",
     "output_type": "stream",
     "text": [
      "Clipping input data to the valid range for imshow with RGB data ([0..1] for floats or [0..255] for integers).\n"
     ]
    },
    {
     "name": "stdout",
     "output_type": "stream",
     "text": [
      "EPOCHS FINISHED = 3\n"
     ]
    },
    {
     "data": {
      "image/png": "[encoded data removed]",
      "text/plain": [
       "<Figure size 432x288 with 1 Axes>"
      ]
     },
     "metadata": {
      "needs_background": "light"
     },
     "output_type": "display_data"
    },
    {
     "name": "stdout",
     "output_type": "stream",
     "text": [
      "Gen Loss = [12.003349] Dis Loss = [1.3862944] \n",
      "Gen Loss = [11.512339] Dis Loss = [1.3862948] \n",
      "Gen Loss = [11.968889] Dis Loss = [1.3862944] \n",
      "Gen Loss = [11.42005] Dis Loss = [1.3862944] \n",
      "Gen Loss = [11.623764] Dis Loss = [1.3862808] \n",
      "Gen Loss = [11.834421] Dis Loss = [1.3862944] \n",
      "Gen Loss = [11.498335] Dis Loss = [1.3862944] \n",
      "Gen Loss = [11.521198] Dis Loss = [1.3862944] \n",
      "Gen Loss = [11.54707] Dis Loss = [1.3863415] \n",
      "Gen Loss = [11.499113] Dis Loss = [1.3862944] \n",
      "Gen Loss = [12.017984] Dis Loss = [1.3862891] \n",
      "Gen Loss = [11.735996] Dis Loss = [1.3862942] \n",
      "Gen Loss = [11.732306] Dis Loss = [1.3862944] \n",
      "Gen Loss = [11.462759] Dis Loss = [1.3863125] \n",
      "Gen Loss = [12.342901] Dis Loss = [1.3864923] \n",
      "Gen Loss = [11.444058] Dis Loss = [1.3862932] \n",
      "Gen Loss = [11.4125185] Dis Loss = [1.386289] \n",
      "Gen Loss = [11.521077] Dis Loss = [1.3867795] \n",
      "Gen Loss = [11.547534] Dis Loss = [1.385875] \n",
      "Gen Loss = [11.426348] Dis Loss = [1.3862982] \n",
      "Gen Loss = [11.461704] Dis Loss = [1.3862944] \n",
      "Gen Loss = [11.337729] Dis Loss = [1.1306772] \n",
      "Gen Loss = [11.956989] Dis Loss = [1.4159813] \n",
      "Gen Loss = [11.653655] Dis Loss = [1.3823537] \n",
      "Gen Loss = [11.540052] Dis Loss = [1.3862932] \n",
      "Gen Loss = [10.782949] Dis Loss = [1.3862944] \n",
      "Gen Loss = [11.282314] Dis Loss = [1.3862935] \n",
      "Gen Loss = [11.438875] Dis Loss = [1.3862944] \n",
      "Gen Loss = [11.199816] Dis Loss = [1.3862942] \n",
      "Gen Loss = [11.14686] Dis Loss = [1.3863294] \n",
      "Gen Loss = [11.445374] Dis Loss = [1.3862935] \n",
      "Gen Loss = [11.254867] Dis Loss = [1.3859739] \n",
      "Gen Loss = [11.174467] Dis Loss = [1.3838961] \n",
      "Gen Loss = [11.286016] Dis Loss = [1.3864586] \n",
      "Gen Loss = [11.112613] Dis Loss = [1.3875825] \n",
      "Gen Loss = [10.8655615] Dis Loss = [1.2533147] \n",
      "Gen Loss = [10.961014] Dis Loss = [1.4023052] \n",
      "Gen Loss = [10.533849] Dis Loss = [1.2513275] \n",
      "Gen Loss = [10.623451] Dis Loss = [1.3862983] \n",
      "Gen Loss = [11.169555] Dis Loss = [1.3193951] \n",
      "Gen Loss = [11.087258] Dis Loss = [1.2922813] \n",
      "Gen Loss = [10.510147] Dis Loss = [1.1655031] \n",
      "Gen Loss = [11.083988] Dis Loss = [1.1075886] \n",
      "Gen Loss = [11.0131645] Dis Loss = [1.3862736] \n",
      "Gen Loss = [11.059259] Dis Loss = [1.3862836] \n",
      "Gen Loss = [11.361465] Dis Loss = [1.3862944] \n",
      "Gen Loss = [10.789427] Dis Loss = [1.3862944] \n",
      "Gen Loss = [11.480268] Dis Loss = [1.3862923] \n",
      "Gen Loss = [11.609676] Dis Loss = [1.3375101] \n",
      "Gen Loss = [11.226973] Dis Loss = [1.2933805] \n"
     ]
    },
    {
     "name": "stderr",
     "output_type": "stream",
     "text": [
      "Clipping input data to the valid range for imshow with RGB data ([0..1] for floats or [0..255] for integers).\n"
     ]
    },
    {
     "name": "stdout",
     "output_type": "stream",
     "text": [
      "EPOCHS FINISHED = 4\n"
     ]
    },
    {
     "data": {
      "image/png": "[encoded data removed]",
      "text/plain": [
       "<Figure size 432x288 with 1 Axes>"
      ]
     },
     "metadata": {
      "needs_background": "light"
     },
     "output_type": "display_data"
    },
    {
     "name": "stdout",
     "output_type": "stream",
     "text": [
      "Gen Loss = [11.577375] Dis Loss = [1.3862944] \n",
      "Gen Loss = [11.071293] Dis Loss = [1.3862965] \n",
      "Gen Loss = [11.527974] Dis Loss = [1.3862944] \n",
      "Gen Loss = [10.993776] Dis Loss = [1.3862927] \n",
      "Gen Loss = [11.1536255] Dis Loss = [1.1065] \n",
      "Gen Loss = [11.363718] Dis Loss = [1.3862944] \n",
      "Gen Loss = [11.038074] Dis Loss = [1.1494337] \n",
      "Gen Loss = [11.065139] Dis Loss = [1.3863022] \n",
      "Gen Loss = [11.122662] Dis Loss = [1.3888465] \n",
      "Gen Loss = [11.07425] Dis Loss = [1.3863101] \n",
      "Gen Loss = [11.533419] Dis Loss = [1.1064731] \n",
      "Gen Loss = [11.262007] Dis Loss = [1.1068718] \n",
      "Gen Loss = [11.309049] Dis Loss = [1.3861789] \n",
      "Gen Loss = [10.954378] Dis Loss = [1.4694501] \n",
      "Gen Loss = [11.759716] Dis Loss = [1.3243986] \n",
      "Gen Loss = [10.933865] Dis Loss = [1.1083562] \n",
      "Gen Loss = [10.942176] Dis Loss = [1.108176] \n",
      "Gen Loss = [10.959807] Dis Loss = [1.3653774] \n",
      "Gen Loss = [11.03169] Dis Loss = [1.139821] \n",
      "Gen Loss = [10.923246] Dis Loss = [1.3888526] \n",
      "Gen Loss = [10.896658] Dis Loss = [1.3862656] \n",
      "Gen Loss = [10.786135] Dis Loss = [1.1313968] \n",
      "Gen Loss = [11.316501] Dis Loss = [1.8183004] \n",
      "Gen Loss = [11.18103] Dis Loss = [1.1950808] \n",
      "Gen Loss = [11.101267] Dis Loss = [1.1064464] \n",
      "Gen Loss = [10.333463] Dis Loss = [1.3862946] \n",
      "Gen Loss = [10.821873] Dis Loss = [1.3860154] \n",
      "Gen Loss = [10.987589] Dis Loss = [1.3862941] \n",
      "Gen Loss = [10.779517] Dis Loss = [1.1065804] \n",
      "Gen Loss = [10.767383] Dis Loss = [1.386514] \n",
      "Gen Loss = [10.972173] Dis Loss = [1.3655043] \n",
      "Gen Loss = [10.782882] Dis Loss = [1.3862697] \n",
      "Gen Loss = [10.707029] Dis Loss = [1.3856677] \n",
      "Gen Loss = [10.837038] Dis Loss = [1.3862944] \n",
      "Gen Loss = [10.685587] Dis Loss = [1.3854685] \n",
      "Gen Loss = [10.510457] Dis Loss = [1.1283295] \n",
      "Gen Loss = [10.591666] Dis Loss = [1.1479412] \n",
      "Gen Loss = [10.114198] Dis Loss = [1.1101224] \n",
      "Gen Loss = [10.214268] Dis Loss = [1.386351] \n",
      "Gen Loss = [10.769997] Dis Loss = [1.2611903] \n",
      "Gen Loss = [10.541898] Dis Loss = [1.2489765] \n",
      "Gen Loss = [10.416836] Dis Loss = [1.1065123] \n",
      "Gen Loss = [10.749728] Dis Loss = [1.1066142] \n",
      "Gen Loss = [10.588526] Dis Loss = [1.3862944] \n",
      "Gen Loss = [10.606272] Dis Loss = [1.3862944] \n",
      "Gen Loss = [10.903206] Dis Loss = [1.3862944] \n",
      "Gen Loss = [10.348324] Dis Loss = [1.3862944] \n",
      "Gen Loss = [11.038301] Dis Loss = [1.3862944] \n",
      "Gen Loss = [11.161465] Dis Loss = [1.3862944] \n",
      "Gen Loss = [10.786863] Dis Loss = [1.3862803] \n"
     ]
    },
    {
     "name": "stderr",
     "output_type": "stream",
     "text": [
      "Clipping input data to the valid range for imshow with RGB data ([0..1] for floats or [0..255] for integers).\n"
     ]
    },
    {
     "name": "stdout",
     "output_type": "stream",
     "text": [
      "EPOCHS FINISHED = 5\n"
     ]
    },
    {
     "data": {
      "image/png": "[encoded data removed]",
      "text/plain": [
       "<Figure size 432x288 with 1 Axes>"
      ]
     },
     "metadata": {
      "needs_background": "light"
     },
     "output_type": "display_data"
    },
    {
     "name": "stdout",
     "output_type": "stream",
     "text": [
      "Gen Loss = [11.139118] Dis Loss = [1.3862944] \n",
      "Gen Loss = [10.62612] Dis Loss = [1.3862944] \n",
      "Gen Loss = [11.095041] Dis Loss = [1.3862944] \n",
      "Gen Loss = [10.571875] Dis Loss = [1.3862944] \n",
      "Gen Loss = [10.693132] Dis Loss = [1.3861265] \n",
      "Gen Loss = [10.911505] Dis Loss = [1.3862944] \n",
      "Gen Loss = [10.588829] Dis Loss = [1.3861318] \n",
      "Gen Loss = [10.576431] Dis Loss = [1.3862944] \n",
      "Gen Loss = [10.608505] Dis Loss = [1.3862976] \n",
      "Gen Loss = [10.555981] Dis Loss = [1.3862944] \n",
      "Gen Loss = [11.044561] Dis Loss = [1.1256335] \n",
      "Gen Loss = [10.82851] Dis Loss = [1.3862936] \n",
      "Gen Loss = [10.949314] Dis Loss = [1.3862944] \n",
      "Gen Loss = [10.647637] Dis Loss = [1.3863008] \n",
      "Gen Loss = [11.417101] Dis Loss = [1.3863287] \n",
      "Gen Loss = [10.464747] Dis Loss = [1.3859544] \n",
      "Gen Loss = [10.51824] Dis Loss = [1.386291] \n",
      "Gen Loss = [10.604862] Dis Loss = [1.3864532] \n",
      "Gen Loss = [10.593573] Dis Loss = [1.356392] \n",
      "Gen Loss = [10.516997] Dis Loss = [1.3862952] \n",
      "Gen Loss = [10.440432] Dis Loss = [1.3862944] \n",
      "Gen Loss = [10.355136] Dis Loss = [1.1066921] \n",
      "Gen Loss = [11.08347] Dis Loss = [1.4005008] \n",
      "Gen Loss = [10.819961] Dis Loss = [1.1066232] \n",
      "Gen Loss = [10.647149] Dis Loss = [1.3862867] \n",
      "Gen Loss = [9.87949] Dis Loss = [1.3862944] \n",
      "Gen Loss = [10.360905] Dis Loss = [1.3862914] \n",
      "Gen Loss = [10.545393] Dis Loss = [1.3862944] \n",
      "Gen Loss = [10.365338] Dis Loss = [1.3862926] \n",
      "Gen Loss = [10.370549] Dis Loss = [1.3863257] \n",
      "Gen Loss = [10.658609] Dis Loss = [1.3773733] \n",
      "Gen Loss = [10.423302] Dis Loss = [1.3860866] \n",
      "Gen Loss = [10.330068] Dis Loss = [1.3854177] \n",
      "Gen Loss = [10.408057] Dis Loss = [1.3863037] \n",
      "Gen Loss = [10.2128725] Dis Loss = [1.3862047] \n",
      "Gen Loss = [10.04227] Dis Loss = [1.142249] \n",
      "Gen Loss = [10.160758] Dis Loss = [1.3848596] \n",
      "Gen Loss = [9.708677] Dis Loss = [1.1088374] \n",
      "Gen Loss = [9.815399] Dis Loss = [1.3866022] \n",
      "Gen Loss = [10.41044] Dis Loss = [1.216681] \n",
      "Gen Loss = [10.247768] Dis Loss = [1.3249104] \n",
      "Gen Loss = [9.712187] Dis Loss = [1.1143378] \n",
      "Gen Loss = [10.263759] Dis Loss = [1.1342579] \n",
      "Gen Loss = [10.171526] Dis Loss = [1.1086543] \n",
      "Gen Loss = [10.23148] Dis Loss = [1.1109788] \n",
      "Gen Loss = [10.529516] Dis Loss = [1.3866045] \n",
      "Gen Loss = [9.969524] Dis Loss = [1.3862956] \n",
      "Gen Loss = [10.630868] Dis Loss = [1.1087266] \n",
      "Gen Loss = [10.765964] Dis Loss = [1.107123] \n",
      "Gen Loss = [10.20774] Dis Loss = [1.5043485] \n"
     ]
    },
    {
     "name": "stderr",
     "output_type": "stream",
     "text": [
      "Clipping input data to the valid range for imshow with RGB data ([0..1] for floats or [0..255] for integers).\n"
     ]
    },
    {
     "name": "stdout",
     "output_type": "stream",
     "text": [
      "EPOCHS FINISHED = 6\n"
     ]
    },
    {
     "data": {
      "image/png": "[encoded data removed]",
      "text/plain": [
       "<Figure size 432x288 with 1 Axes>"
      ]
     },
     "metadata": {
      "needs_background": "light"
     },
     "output_type": "display_data"
    },
    {
     "name": "stdout",
     "output_type": "stream",
     "text": [
      "Gen Loss = [11.038816] Dis Loss = [1.3863207] \n",
      "Gen Loss = [10.409488] Dis Loss = [1.3862972] \n",
      "Gen Loss = [10.764448] Dis Loss = [1.3862944] \n",
      "Gen Loss = [10.219955] Dis Loss = [1.3862944] \n",
      "Gen Loss = [10.337465] Dis Loss = [1.106409] \n",
      "Gen Loss = [10.547199] Dis Loss = [1.3862944] \n",
      "Gen Loss = [10.240435] Dis Loss = [1.106409] \n",
      "Gen Loss = [10.247646] Dis Loss = [1.3862944] \n",
      "Gen Loss = [10.291194] Dis Loss = [1.3863523] \n",
      "Gen Loss = [10.217412] Dis Loss = [1.3862944] \n",
      "Gen Loss = [10.641981] Dis Loss = [1.106409] \n",
      "Gen Loss = [10.386808] Dis Loss = [1.106409] \n",
      "Gen Loss = [10.559044] Dis Loss = [1.3862944] \n",
      "Gen Loss = [10.272135] Dis Loss = [1.3865305] \n",
      "Gen Loss = [11.049435] Dis Loss = [1.3867912] \n",
      "Gen Loss = [10.090259] Dis Loss = [1.1064221] \n",
      "Gen Loss = [10.175515] Dis Loss = [1.3748174] \n",
      "Gen Loss = [10.263761] Dis Loss = [1.3886561] \n",
      "Gen Loss = [10.249448] Dis Loss = [1.1080425] \n",
      "Gen Loss = [10.189929] Dis Loss = [1.3865039] \n",
      "Gen Loss = [10.077716] Dis Loss = [1.3862927] \n",
      "Gen Loss = [9.958633] Dis Loss = [1.1128232] \n",
      "Gen Loss = [10.614712] Dis Loss = [1.4452751] \n",
      "Gen Loss = [10.439381] Dis Loss = [1.1129043] \n",
      "Gen Loss = [10.320331] Dis Loss = [1.1066161] \n",
      "Gen Loss = [9.55447] Dis Loss = [1.3863313] \n",
      "Gen Loss = [10.007906] Dis Loss = [1.3848906] \n",
      "Gen Loss = [10.16897] Dis Loss = [1.3863034] \n",
      "Gen Loss = [9.982233] Dis Loss = [1.1066997] \n",
      "Gen Loss = [10.037289] Dis Loss = [1.386205] \n",
      "Gen Loss = [10.365688] Dis Loss = [1.1121927] \n",
      "Gen Loss = [10.149432] Dis Loss = [1.1091253] \n",
      "Gen Loss = [10.081878] Dis Loss = [1.1078407] \n",
      "Gen Loss = [10.142202] Dis Loss = [1.3863015] \n",
      "Gen Loss = [9.878357] Dis Loss = [1.3613713] \n",
      "Gen Loss = [9.735323] Dis Loss = [1.1106911] \n",
      "Gen Loss = [9.82917] Dis Loss = [1.3337911] \n",
      "Gen Loss = [9.401125] Dis Loss = [1.1064512] \n",
      "Gen Loss = [9.517703] Dis Loss = [1.386303] \n",
      "Gen Loss = [10.158278] Dis Loss = [1.1516653] \n",
      "Gen Loss = [9.970013] Dis Loss = [1.1086696] \n",
      "Gen Loss = [9.432329] Dis Loss = [1.1078293] \n",
      "Gen Loss = [9.991181] Dis Loss = [1.11662] \n",
      "Gen Loss = [9.863419] Dis Loss = [1.1069613] \n",
      "Gen Loss = [9.941866] Dis Loss = [1.1072038] \n",
      "Gen Loss = [10.222291] Dis Loss = [1.3864679] \n",
      "Gen Loss = [9.686235] Dis Loss = [1.3861061] \n",
      "Gen Loss = [10.338571] Dis Loss = [1.109664] \n",
      "Gen Loss = [10.469332] Dis Loss = [1.1068288] \n",
      "Gen Loss = [10.055997] Dis Loss = [1.2676166] \n"
     ]
    },
    {
     "name": "stderr",
     "output_type": "stream",
     "text": [
      "Clipping input data to the valid range for imshow with RGB data ([0..1] for floats or [0..255] for integers).\n"
     ]
    },
    {
     "name": "stdout",
     "output_type": "stream",
     "text": [
      "EPOCHS FINISHED = 7\n"
     ]
    },
    {
     "data": {
      "image/png": "[encoded data removed]",
      "text/plain": [
       "<Figure size 432x288 with 1 Axes>"
      ]
     },
     "metadata": {
      "needs_background": "light"
     },
     "output_type": "display_data"
    },
    {
     "name": "stdout",
     "output_type": "stream",
     "text": [
      "Gen Loss = [10.611367] Dis Loss = [1.3825352] \n",
      "Gen Loss = [10.031271] Dis Loss = [1.3865322] \n",
      "Gen Loss = [10.459405] Dis Loss = [1.38417] \n",
      "Gen Loss = [9.956064] Dis Loss = [1.1064101] \n",
      "Gen Loss = [10.025453] Dis Loss = [1.1064222] \n",
      "Gen Loss = [10.245264] Dis Loss = [1.3862991] \n",
      "Gen Loss = [9.957036] Dis Loss = [1.1064463] \n",
      "Gen Loss = [9.956329] Dis Loss = [1.3867786] \n",
      "Gen Loss = [10.009807] Dis Loss = [1.3912998] \n",
      "Gen Loss = [9.949629] Dis Loss = [1.3866016] \n",
      "Gen Loss = [10.357143] Dis Loss = [1.1072104] \n",
      "Gen Loss = [9.865192] Dis Loss = [1.7130134] \n",
      "Gen Loss = [10.354282] Dis Loss = [1.234737] \n",
      "Gen Loss = [9.937434] Dis Loss = [1.3881707] \n",
      "Gen Loss = [10.735733] Dis Loss = [1.385984] \n",
      "Gen Loss = [9.784984] Dis Loss = [1.1064752] \n",
      "Gen Loss = [9.895519] Dis Loss = [1.106585] \n",
      "Gen Loss = [9.9764595] Dis Loss = [1.3642015] \n",
      "Gen Loss = [9.946093] Dis Loss = [1.1161277] \n"
     ]
    }
   ],
   "source": [
    "image_colorizer.train(gray_images_resized_type,color_images_resized_type,test)"
   ]
  },
  {
   "cell_type": "code",
   "execution_count": null,
   "metadata": {},
   "outputs": [],
   "source": [
    "\n"
   ]
  },
  {
   "cell_type": "code",
   "execution_count": null,
   "metadata": {},
   "outputs": [],
   "source": []
  },
  {
   "cell_type": "code",
   "execution_count": 342,
   "metadata": {},
   "outputs": [
    {
     "name": "stdout",
     "output_type": "stream",
     "text": [
      "[1, 2, 3]\n"
     ]
    }
   ],
   "source": []
  },
  {
   "cell_type": "code",
   "execution_count": null,
   "metadata": {},
   "outputs": [],
   "source": []
  }
 ],
 "metadata": {
  "kernelspec": {
   "display_name": "Python 3",
   "language": "python",
   "name": "python3"
  },
  "language_info": {
   "codemirror_mode": {
    "name": "ipython",
    "version": 3
   },
   "file_extension": ".py",
   "mimetype": "text/x-python",
   "name": "python",
   "nbconvert_exporter": "python",
   "pygments_lexer": "ipython3",
   "version": "3.7.1"
  }
 },
 "nbformat": 4,
 "nbformat_minor": 2
}
