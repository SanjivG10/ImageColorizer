{
 "cells": [
  {
   "cell_type": "code",
   "execution_count": 2,
   "metadata": {},
   "outputs": [],
   "source": [
    "import tensorflow as tf\n",
    "from tensorflow.keras.layers import Dense, Conv2D, Conv2DTranspose, BatchNormalization,LeakyReLU,Input, Lambda,Concatenate,Flatten\n",
    "from  tensorflow.keras.models import Sequential,Model \n",
    "import numpy as np\n",
    "import random\n",
    "import matplotlib.pyplot as plt\n",
    "import cv2\n",
    "import random\n",
    "import os"
   ]
  },
  {
   "cell_type": "code",
   "execution_count": 3,
   "metadata": {},
   "outputs": [],
   "source": [
    "tf.enable_eager_execution()"
   ]
  },
  {
   "cell_type": "code",
   "execution_count": 14,
   "metadata": {},
   "outputs": [],
   "source": [
    "#we want to create a image colorization using GAN, I could have tried CNN but heard this works better\n",
    "class ImageColorizer():\n",
    "    def __init__(self):\n",
    "        self.epochs = 50\n",
    "        self.image_size = 32\n",
    "        self.filter_size = 64\n",
    "        self.kernel_size = 3\n",
    "        self.learning_rate = 0.0002\n",
    "        self.gen_optimizer = tf.train.AdamOptimizer(self.learning_rate,beta1=0.5)\n",
    "        self.dis_optimizer = tf.train.AdamOptimizer(self.learning_rate,beta1=0.5)\n",
    "    def generator_model(self):\n",
    "        # generator is like this, we have grayscale image of size 50*50, and we first downsample and then upsample it\n",
    "        #we use fully convolutional network, so we don't use Dense Layer here! \n",
    "        input_images = Input(shape=[32,32,1])\n",
    "        #first layer\n",
    "        layer1= Conv2D(self.filter_size,self.kernel_size,(2,2),padding='same',use_bias=False,kernel_initializer='random_uniform',activation=None)(input_images)\n",
    "        layer1=LeakyReLU(0.2)(layer1)\n",
    "        #shape = 16*16*64\n",
    "        \n",
    "        layer2= Conv2D(self.filter_size*2,self.kernel_size,(2,2),padding='same',use_bias=False,kernel_initializer='random_uniform',activation=None)(layer1)\n",
    "        layer2=BatchNormalization()(layer2)\n",
    "        layer2=LeakyReLU(0.2)(layer2)\n",
    "        #shape =8*8*128\n",
    "        \n",
    "        layer3=Conv2D(self.filter_size*4,self.kernel_size,(2,2),padding='same',use_bias=False,kernel_initializer='random_uniform',activation=None)(layer2)\n",
    "        layer3=BatchNormalization()(layer3)\n",
    "        layer3=LeakyReLU(0.2)(layer3) \n",
    "        #shape = 4*4*256        \n",
    "        \n",
    "        up_layer5 = Conv2DTranspose(self.filter_size*2,self.kernel_size,strides = (2,2),padding='same',use_bias=False,activation=None)(layer3)\n",
    "        up_layer5=BatchNormalization()(up_layer5)\n",
    "        up_layer5=LeakyReLU(0.2)(up_layer5)\n",
    "        #shape = 8*8*128\n",
    "        up_layer_5_concat = Concatenate()([up_layer5, layer2])  \n",
    "\n",
    "\n",
    "        up_layer6 = Conv2DTranspose(self.filter_size,self.kernel_size,strides = (2,2),padding='same',use_bias=False,activation=None)(up_layer_5_concat)\n",
    "        up_layer6 =BatchNormalization()(up_layer6)\n",
    "        up_layer6 =LeakyReLU(0.2)(up_layer6)\n",
    "\n",
    "        #shape = 16*16*64\n",
    "        up_layer_6_concat = Concatenate()([up_layer6, layer1])        \n",
    "        \n",
    "        up_layer7 = Conv2DTranspose(3,self.kernel_size,strides = (2,2),padding='same',use_bias=False,activation=None)(up_layer_6_concat)\n",
    "        up_layer7 =BatchNormalization()(up_layer7)\n",
    "        up_layer7 =LeakyReLU(0.2)(up_layer7)\n",
    "        #shape = 32*32*3\n",
    "\n",
    "        #shape = 32*32*3\n",
    "        model = Model(input_images,up_layer7)\n",
    "        return model\n",
    "        \n",
    "    def discriminator_model(self):\n",
    "        # discriminator follows similar pattern, but has one sigmoid ouput whether the given network is from generator or from real data input\n",
    "        input_images = Input(shape=[32,32,3])\n",
    "        layer1= Conv2D(self.filter_size,self.kernel_size,(2,2),padding='same',use_bias=False,kernel_initializer='random_uniform',activation=None)(input_images)\n",
    "        layer1=LeakyReLU(0.2)(layer1)\n",
    "        #shape = 16*16*64\n",
    "        layer2= Conv2D(self.filter_size*2,self.kernel_size,(2,2),padding='same',use_bias=False,kernel_initializer='random_uniform',activation=None)(layer1)\n",
    "        layer2=BatchNormalization()(layer2)\n",
    "        layer2=LeakyReLU(0.2)(layer2)\n",
    "        #shape =8*8*128\n",
    "        layer3=Conv2D(self.filter_size*4,self.kernel_size,(2,2),padding='same',use_bias=False,kernel_initializer='random_uniform',activation=None)(layer2)\n",
    "        layer3=BatchNormalization()(layer3)\n",
    "        layer3=LeakyReLU(0.2)(layer3) \n",
    "        #shape = 4*4*256        \n",
    "        \n",
    "        up_layer5 = Conv2DTranspose(self.filter_size*2,self.kernel_size,strides = (2,2),padding='same',use_bias=False,activation=None)(layer3)\n",
    "        up_layer5=BatchNormalization()(up_layer5)\n",
    "        up_layer5=LeakyReLU(0.2)(up_layer5)\n",
    "        #shape = 8*8*128\n",
    "        up_layer_5_concat = Concatenate()([up_layer5, layer2])  \n",
    "\n",
    "\n",
    "        up_layer6 = Conv2DTranspose(self.filter_size,self.kernel_size,strides = (2,2),padding='same',use_bias=False,activation=None)(up_layer_5_concat)\n",
    "        up_layer6 =BatchNormalization()(up_layer6)\n",
    "        up_layer6 =LeakyReLU(0.2)(up_layer6)\n",
    "\n",
    "        #shape = 16*16*64\n",
    "        up_layer_6_concat = Concatenate()([up_layer6, layer1])        \n",
    "        \n",
    "        up_layer7 = Conv2DTranspose(self.filter_size,self.kernel_size,strides = (2,2),padding='same',use_bias=False,activation=None)(up_layer_6_concat)\n",
    "        up_layer7 =BatchNormalization()(up_layer7)\n",
    "        up_layer7 =LeakyReLU(0.2)(up_layer7)\n",
    "        #shape = 32*32*64\n",
    "        \n",
    "        output = Conv2DTranspose(3,self.kernel_size,strides = (2,2),padding='same',use_bias=False,activation=None)(up_layer7)\n",
    "        final_output = LeakyReLU(0.2)(output)\n",
    "        #shape = 64*64*3\n",
    "        output = Flatten()(final_output)\n",
    "        \n",
    "        sigmoid_output = Dense(1,activation='sigmoid')(output)  \n",
    "        model = Model(input_images,sigmoid_output)\n",
    "        return model\n",
    "    \n",
    "    def generator_loss(self,fake_output,generated_image, actual_image,regularizer_lambda=100):\n",
    "        mse = tf.reduce_mean(regularizer_lambda*tf.keras.losses.mean_absolute_error(generated_image, actual_image))\n",
    "        return tf.nn.sigmoid_cross_entropy_with_logits(labels = tf.ones_like(fake_output)*0.9,logits = fake_output) + mse\n",
    "    \n",
    "    def discriminator_loss(self,generated_image_from_generator,actual_image):\n",
    "        actual_loss  = tf.nn.sigmoid_cross_entropy_with_logits(labels = tf.ones_like(actual_image)*0.9, logits = actual_image )\n",
    "        fake_loss  = tf.nn.sigmoid_cross_entropy_with_logits(labels = tf.zeros_like(generated_image_from_generator), logits = generated_image_from_generator)\n",
    "        return actual_loss + fake_loss\n",
    "    def draw_images(self,generator,input_image_test,epoch):\n",
    "        predict_image= generator(input_image_test)\n",
    "        imageToSave = predict_image[0,:,:,:]\n",
    "        mean, var = tf.nn.moments(imageToSave, axes=[1])\n",
    "        std = tf.math.sqrt(var,name=None)\n",
    "        imageToSave = imageToSave * std + mean\n",
    "        plt.imshow(imageToSave)\n",
    "        plt.savefig('image_at_epoch_{:04d}.png'.format(epoch))\n",
    "        plt.show()\n",
    "\n",
    "    def train(self,gray_scale_image_dataset,color_image_dataset,test_image):\n",
    "        seed= 20 \n",
    "        generator = self.generator_model()\n",
    "        discriminator = self.discriminator_model()\n",
    "        \n",
    "        grayscale_train_dataset = tf.data.Dataset.from_tensor_slices(gray_scale_image_dataset).batch(200)\n",
    "        colored_image_train_dataset = tf.data.Dataset.from_tensor_slices(color_image_dataset).batch(200)\n",
    "        print(\"Training Started\")\n",
    "        for eachEpoch in range(self.epochs):\n",
    "            #this image is being drawn\n",
    "            for gray_scale_image,colored_image in zip(grayscale_train_dataset,colored_image_train_dataset):\n",
    "                for i in range(20):\n",
    "                    tf.random.shuffle(gray_scale_image,seed=seed)\n",
    "                    tf.random.shuffle(colored_image,seed=seed)\n",
    "                self.train_each_epoch(gray_scale_image,colored_image,generator,discriminator,eachEpoch)\n",
    "            print(\"EPOCHS FINISHED = {}\".format(eachEpoch))\n",
    "            self.draw_images(generator,test_image,eachEpoch)\n",
    "        \n",
    "    \n",
    "    def train_each_epoch(self,gray_scale_image_dataset,color_image_dataset,generator,discriminator,epochNumber):\n",
    "            if epochNumber % 3 ==0:\n",
    "                generator.save('Generator2.h5')\n",
    "                discriminator.save('Discriminator2.h5')\n",
    "            with tf.GradientTape() as gen_tape, tf.GradientTape() as disc_tape:\n",
    "                generated_image = generator(gray_scale_image_dataset)\n",
    "                \n",
    "                real_output = discriminator(color_image_dataset)\n",
    "                fake_output = discriminator(generated_image)\n",
    "\n",
    "                gen_loss = self.generator_loss(fake_output,generated_image,color_image_dataset)\n",
    "                dis_loss = self.discriminator_loss(fake_output,real_output)\n",
    "            print (\"Gen Loss = {} Dis Loss = {} \".format(gen_loss[0],dis_loss[0]))\n",
    "            gen_gradients = gen_tape.gradient(gen_loss,generator.trainable_variables)\n",
    "            disc_gradients = disc_tape.gradient(dis_loss,discriminator.trainable_variables)\n",
    "            self.gen_optimizer.apply_gradients(zip(gen_gradients, generator.trainable_variables))\n",
    "            self.dis_optimizer.apply_gradients(zip(disc_gradients, discriminator.trainable_variables))\n",
    "        "
   ]
  },
  {
   "cell_type": "code",
   "execution_count": 7,
   "metadata": {},
   "outputs": [],
   "source": [
    "#lets read the images\n",
    "gray_scale_image_location = 'image-colorization/gray_scale.npy' \n",
    "colored_image_1_location = 'image-colorization/rgb_colored_images.npy'\n"
   ]
  },
  {
   "cell_type": "code",
   "execution_count": 8,
   "metadata": {},
   "outputs": [],
   "source": [
    "gray_images  = np.load(gray_scale_image_location)\n",
    "colored_image_1 = np.load(colored_image_1_location)"
   ]
  },
  {
   "cell_type": "code",
   "execution_count": null,
   "metadata": {},
   "outputs": [],
   "source": []
  },
  {
   "cell_type": "code",
   "execution_count": 4,
   "metadata": {},
   "outputs": [],
   "source": [
    "#resizing images! \n",
    "def imageResize(images):\n",
    "    resize_array = []\n",
    "    for index,img in enumerate(images):\n",
    "        resized = cv2.resize(img,(32,32))                \n",
    "        resize_array.append(resized)\n",
    "    return np.array(resize_array)"
   ]
  },
  {
   "cell_type": "code",
   "execution_count": 5,
   "metadata": {},
   "outputs": [],
   "source": [
    "def normalize(value):\n",
    "    value = (value-value.mean())/value.std()\n",
    "    return value"
   ]
  },
  {
   "cell_type": "code",
   "execution_count": 11,
   "metadata": {},
   "outputs": [],
   "source": [
    "gray_images_resized_type_unchanged = imageResize(gray_images)\n",
    "color_images_resized_type_unchanged = imageResize(colored_image_1)\n",
    "\n",
    "#lets normalize them\n",
    "gray_images_resized_type_unchanged = normalize(gray_images_resized_type_unchanged)\n",
    "color_images_resized_type_unchanged = normalize(color_images_resized_type_unchanged)\n",
    "\n",
    "\n",
    "gray_images_resized_type=gray_images_resized_type_unchanged.astype(np.float32)\n",
    "color_images_resized_type= imageResize(color_images_resized_type_unchanged).astype(np.float32)\n",
    "\n",
    "gray_images_resized_type = np.reshape(gray_images_resized_type,(-1,32,32,1))[:10000]\n",
    "color_images_resized_type = np.reshape(color_images_resized_type,(-1,32,32,3))\n"
   ]
  },
  {
   "cell_type": "code",
   "execution_count": null,
   "metadata": {},
   "outputs": [],
   "source": []
  },
  {
   "cell_type": "code",
   "execution_count": 12,
   "metadata": {},
   "outputs": [],
   "source": [
    "test= cv2.imread('mushroom.png',1)\n",
    "test = cv2.resize(test,(32,32))\n",
    "test= cv2.cvtColor(test,cv2.COLOR_BGR2GRAY)\n",
    "test = normalize(test)\n",
    "test = cv2.resize(test,(32,32))\n",
    "test = np.reshape(test,(32,32,1)).astype(np.float32)\n",
    "test = np.expand_dims(test,0)\n"
   ]
  },
  {
   "cell_type": "code",
   "execution_count": 15,
   "metadata": {
    "scrolled": true
   },
   "outputs": [
    {
     "name": "stdout",
     "output_type": "stream",
     "text": [
      "WARNING:tensorflow:From C:\\Users\\dell\\Anaconda3\\lib\\site-packages\\tensorflow\\python\\ops\\resource_variable_ops.py:642: colocate_with (from tensorflow.python.framework.ops) is deprecated and will be removed in a future version.\n",
      "Instructions for updating:\n",
      "Colocations handled automatically by placer.\n"
     ]
    }
   ],
   "source": [
    "image_colorizer = ImageColorizer()\n",
    "\n",
    "gen = image_colorizer.generator_model()\n",
    "dis = image_colorizer.discriminator_model()\n"
   ]
  },
  {
   "cell_type": "code",
   "execution_count": null,
   "metadata": {},
   "outputs": [],
   "source": []
  },
  {
   "cell_type": "code",
   "execution_count": 16,
   "metadata": {
    "scrolled": true
   },
   "outputs": [],
   "source": [
    "# image_colorizer.train(gray_images_resized_type,color_images_resized_type,test)"
   ]
  },
  {
   "cell_type": "code",
   "execution_count": 10,
   "metadata": {},
   "outputs": [],
   "source": [
    "def normalize_reshape_images(image_location):\n",
    "    try:\n",
    "        image = cv2.imread(image_location,1)\n",
    "        image = cv2.resize(image,(32,32))\n",
    "        image= cv2.cvtColor(image,cv2.COLOR_BGR2GRAY)\n",
    "        image = normalize(image)\n",
    "        image = np.reshape(image,(32,32,1)).astype(np.float32)\n",
    "        image = np.expand_dims(image,0)\n",
    "        return image\n",
    "    except error as e:\n",
    "        print(e)\n"
   ]
  },
  {
   "cell_type": "code",
   "execution_count": 6,
   "metadata": {},
   "outputs": [],
   "source": [
    "test2= cv2.imread('bride.jpg',1)\n",
    "original_image = test2\n",
    "test2or = cv2.resize(test2,(32,32))\n",
    "test2 = test2or\n",
    "test2= cv2.cvtColor(test2,cv2.COLOR_BGR2GRAY)\n",
    "test2 = normalize(test2)\n",
    "test2 = np.reshape(test2,(32,32,1)).astype(np.float32)\n",
    "test2 = np.expand_dims(test2,0)\n"
   ]
  },
  {
   "cell_type": "code",
   "execution_count": 7,
   "metadata": {},
   "outputs": [
    {
     "name": "stdout",
     "output_type": "stream",
     "text": [
      "WARNING:tensorflow:From C:\\Users\\dell\\Anaconda3\\lib\\site-packages\\tensorflow\\python\\ops\\resource_variable_ops.py:642: colocate_with (from tensorflow.python.framework.ops) is deprecated and will be removed in a future version.\n",
      "Instructions for updating:\n",
      "Colocations handled automatically by placer.\n",
      "WARNING:tensorflow:No training configuration found in save file: the model was *not* compiled. Compile it manually.\n"
     ]
    }
   ],
   "source": [
    "gen = tf.keras.models.load_model('Generator2.h5')"
   ]
  },
  {
   "cell_type": "code",
   "execution_count": 12,
   "metadata": {},
   "outputs": [],
   "source": [
    "image_location = 'images'"
   ]
  },
  {
   "cell_type": "code",
   "execution_count": 62,
   "metadata": {},
   "outputs": [
    {
     "data": {
      "text/plain": [
       "<matplotlib.image.AxesImage at 0x1dc9208f080>"
      ]
     },
     "execution_count": 62,
     "metadata": {},
     "output_type": "execute_result"
    },
    {
     "data": {
      "image/png": "[encoded data removed]",
      "text/plain": [
       "<Figure size 432x288 with 1 Axes>"
      ]
     },
     "metadata": {
      "needs_background": "light"
     },
     "output_type": "display_data"
    }
   ],
   "source": [
    "all_images = []\n",
    "for i in range(1,17):\n",
    "    all_images.append(normalize_reshape_images(image_location+\"/\"+str(i)+\".png\"))"
   ]
  },
  {
   "cell_type": "code",
   "execution_count": 81,
   "metadata": {},
   "outputs": [
    {
     "name": "stderr",
     "output_type": "stream",
     "text": [
      "Clipping input data to the valid range for imshow with RGB data ([0..1] for floats or [0..255] for integers).\n",
      "Clipping input data to the valid range for imshow with RGB data ([0..1] for floats or [0..255] for integers).\n",
      "Clipping input data to the valid range for imshow with RGB data ([0..1] for floats or [0..255] for integers).\n",
      "Clipping input data to the valid range for imshow with RGB data ([0..1] for floats or [0..255] for integers).\n",
      "Clipping input data to the valid range for imshow with RGB data ([0..1] for floats or [0..255] for integers).\n",
      "Clipping input data to the valid range for imshow with RGB data ([0..1] for floats or [0..255] for integers).\n",
      "Clipping input data to the valid range for imshow with RGB data ([0..1] for floats or [0..255] for integers).\n",
      "Clipping input data to the valid range for imshow with RGB data ([0..1] for floats or [0..255] for integers).\n",
      "Clipping input data to the valid range for imshow with RGB data ([0..1] for floats or [0..255] for integers).\n",
      "Clipping input data to the valid range for imshow with RGB data ([0..1] for floats or [0..255] for integers).\n",
      "Clipping input data to the valid range for imshow with RGB data ([0..1] for floats or [0..255] for integers).\n",
      "Clipping input data to the valid range for imshow with RGB data ([0..1] for floats or [0..255] for integers).\n",
      "Clipping input data to the valid range for imshow with RGB data ([0..1] for floats or [0..255] for integers).\n",
      "Clipping input data to the valid range for imshow with RGB data ([0..1] for floats or [0..255] for integers).\n",
      "Clipping input data to the valid range for imshow with RGB data ([0..1] for floats or [0..255] for integers).\n",
      "Clipping input data to the valid range for imshow with RGB data ([0..1] for floats or [0..255] for integers).\n"
     ]
    },
    {
     "data": {
      "image/png": "[encoded data removed]",
      "text/plain": [
       "<Figure size 432x288 with 16 Axes>"
      ]
     },
     "metadata": {
      "needs_background": "light"
     },
     "output_type": "display_data"
    },
    {
     "data": {
      "image/png": "[encoded data removed]",
      "text/plain": [
       "<Figure size 432x288 with 16 Axes>"
      ]
     },
     "metadata": {
      "needs_background": "light"
     },
     "output_type": "display_data"
    },
    {
     "data": {
      "image/png": "[encoded data removed]",
      "text/plain": [
       "<Figure size 432x288 with 16 Axes>"
      ]
     },
     "metadata": {
      "needs_background": "light"
     },
     "output_type": "display_data"
    }
   ],
   "source": [
    "for i in range(0,16):\n",
    "    plt.subplot(4,4,i+1)\n",
    "    image_generated = gen(all_images[i])\n",
    "    mean, var = tf.nn.moments(image_generated, axes=[1])\n",
    "    std = tf.math.sqrt(var,name=None)\n",
    "    image_generated = image_generated * std + mean\n",
    "    plt.imshow(image_generated[0,:,:,:])\n",
    "    plt.axis('off')\n",
    "plt.show()\n",
    "\n",
    "for i in range(0,16):\n",
    "    plt.subplot(4,4,i+1)\n",
    "    plt.imshow(all_images[i][0,:,:,0])\n",
    "    plt.axis('off')\n",
    "plt.show()\n",
    "\n",
    "#actual  image\n",
    "for i in range(0,16):\n",
    "    plt.subplot(4,4,i+1)\n",
    "    frame = cv2.imread(image_location+\"/\"+str(i+1)+\".png\")\n",
    "    plt.imshow(frame)\n",
    "    plt.axis('off')\n",
    "plt.show()\n",
    "\n"
   ]
  },
  {
   "cell_type": "code",
   "execution_count": null,
   "metadata": {},
   "outputs": [],
   "source": []
  },
  {
   "cell_type": "code",
   "execution_count": 102,
   "metadata": {},
   "outputs": [],
   "source": [
    "#creating animated gif\n",
    "import imageio\n",
    "\n",
    "images = []\n",
    "count_value = 0\n",
    "for file_name in os.listdir(\".\"):\n",
    "    count_value += 1\n",
    "    if file_name.startswith('image_at_epoch'):\n",
    "        file_path = os.path.join(\"\", file_name)\n",
    "        images.append(imageio.imread(file_path))\n",
    "imageio.mimsave('geniamges.gif', images)"
   ]
  },
  {
   "cell_type": "code",
   "execution_count": null,
   "metadata": {},
   "outputs": [],
   "source": []
  },
  {
   "cell_type": "code",
   "execution_count": null,
   "metadata": {},
   "outputs": [],
   "source": []
  },
  {
   "cell_type": "code",
   "execution_count": 49,
   "metadata": {},
   "outputs": [],
   "source": []
  },
  {
   "cell_type": "code",
   "execution_count": null,
   "metadata": {},
   "outputs": [],
   "source": []
  },
  {
   "cell_type": "code",
   "execution_count": null,
   "metadata": {},
   "outputs": [],
   "source": []
  },
  {
   "cell_type": "code",
   "execution_count": null,
   "metadata": {},
   "outputs": [],
   "source": []
  }
 ],
 "metadata": {
  "kernelspec": {
   "display_name": "Python 3",
   "language": "python",
   "name": "python3"
  },
  "language_info": {
   "codemirror_mode": {
    "name": "ipython",
    "version": 3
   },
   "file_extension": ".py",
   "mimetype": "text/x-python",
   "name": "python",
   "nbconvert_exporter": "python",
   "pygments_lexer": "ipython3",
   "version": "3.7.1"
  }
 },
 "nbformat": 4,
 "nbformat_minor": 2
}
